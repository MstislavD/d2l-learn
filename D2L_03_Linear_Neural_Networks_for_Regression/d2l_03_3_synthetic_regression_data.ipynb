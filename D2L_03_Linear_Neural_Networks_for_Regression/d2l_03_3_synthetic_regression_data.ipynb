{
 "cells": [
  {
   "cell_type": "code",
   "execution_count": 1,
   "id": "d0304df5",
   "metadata": {},
   "outputs": [],
   "source": [
    "import random\n",
    "import torch\n",
    "from d2l import torch as d2l"
   ]
  },
  {
   "cell_type": "markdown",
   "id": "31d60ba2",
   "metadata": {},
   "source": [
    "### Generating the Dataset"
   ]
  },
  {
   "cell_type": "code",
   "execution_count": 2,
   "id": "54428f98",
   "metadata": {},
   "outputs": [
    {
     "name": "stdout",
     "output_type": "stream",
     "text": [
      "features: tensor([-0.5100,  0.7647]) \n",
      "label: tensor([0.5781])\n"
     ]
    }
   ],
   "source": [
    "data = d2l.SyntheticRegressionData(w=torch.tensor([2, -3.4]), b=4.2)\n",
    "\n",
    "print('features:', data.X[0], '\\nlabel:', data.y[0])"
   ]
  },
  {
   "cell_type": "markdown",
   "id": "f19c4947",
   "metadata": {},
   "source": [
    "### Reading the Dataset"
   ]
  },
  {
   "cell_type": "code",
   "execution_count": 8,
   "id": "93d012f6",
   "metadata": {},
   "outputs": [
    {
     "name": "stdout",
     "output_type": "stream",
     "text": [
      "X shape: torch.Size([32, 2]) \n",
      "y shape: torch.Size([32, 1]) tensor([-1.0301, -0.4658])\n",
      "32\n"
     ]
    }
   ],
   "source": [
    "data = d2l.SyntheticRegressionData(w=torch.tensor([2, -3.4]), b=4.2)\n",
    "X, y = next(iter(data.train_dataloader()))\n",
    "print('X shape:', X.shape, '\\ny shape:', y.shape, data.X[0])\n",
    "\n",
    "print(len(data.train_dataloader()))"
   ]
  },
  {
   "cell_type": "markdown",
   "id": "1221986a",
   "metadata": {},
   "source": [
    "### Exercises"
   ]
  },
  {
   "cell_type": "code",
   "execution_count": 74,
   "id": "370246df",
   "metadata": {},
   "outputs": [
    {
     "name": "stdout",
     "output_type": "stream",
     "text": [
      "[0.1625, 0.3979, 0.9314, 0.122, 0.8156, 0.1362, 0.0361, 0.2234, 0.3269, 0.7926]\n"
     ]
    }
   ],
   "source": [
    "import random\n",
    "def generate_on_the_fly(seed=None):\n",
    "    rnd = random.Random(seed)\n",
    "    while True:\n",
    "        yield rnd.random()\n",
    "        \n",
    "iterator = generate_on_the_fly()\n",
    "print([round(next(iterator), 4) for i in range(10)])"
   ]
  }
 ],
 "metadata": {
  "kernelspec": {
   "display_name": "Python 3",
   "language": "python",
   "name": "python3"
  },
  "language_info": {
   "codemirror_mode": {
    "name": "ipython",
    "version": 3
   },
   "file_extension": ".py",
   "mimetype": "text/x-python",
   "name": "python",
   "nbconvert_exporter": "python",
   "pygments_lexer": "ipython3",
   "version": "3.13.2"
  }
 },
 "nbformat": 4,
 "nbformat_minor": 5
}
