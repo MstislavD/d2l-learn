{
 "cells": [
  {
   "cell_type": "code",
   "execution_count": 1,
   "id": "950f564f",
   "metadata": {},
   "outputs": [],
   "source": [
    "%matplotlib inline\n",
    "import math\n",
    "import time\n",
    "import numpy as np\n",
    "import torch\n",
    "\n",
    "from d2l_lib import torch as d2l"
   ]
  },
  {
   "cell_type": "markdown",
   "id": "e3dd3300",
   "metadata": {},
   "source": [
    "### Vectorization for Speed"
   ]
  },
  {
   "cell_type": "code",
   "execution_count": 9,
   "id": "3fcf0a93",
   "metadata": {},
   "outputs": [
    {
     "name": "stdout",
     "output_type": "stream",
     "text": [
      "slow: 0.01000 sec\n",
      "fast: 0.00007 sec\n"
     ]
    }
   ],
   "source": [
    "n = 1000\n",
    "a = torch.ones(n)\n",
    "b = torch.ones(n)\n",
    "\n",
    "c = torch.zeros(n)\n",
    "t = time.time()\n",
    "for i in range(n):\n",
    "    c[i] = a[i] + b[i]\n",
    "print(\"slow:\", f'{time.time() - t:.5f} sec')\n",
    "\n",
    "t = time.time()\n",
    "d = a + b\n",
    "print(\"fast:\", f'{time.time() - t:.5f} sec')"
   ]
  },
  {
   "cell_type": "markdown",
   "id": "bc800335",
   "metadata": {},
   "source": [
    "### The Normal Distribution and Squared Loss"
   ]
  },
  {
   "cell_type": "code",
   "execution_count": null,
   "id": "994ff1e3",
   "metadata": {},
   "outputs": [],
   "source": [
    "def normal(x, mu, sigma):\n",
    "    p = 1 / math.sqrt(2 * math.pi * sigma**2)\n",
    "    return p * np.exp(-0.5 * (x - mu)**2 / sigma**2)"
   ]
  }
 ],
 "metadata": {
  "kernelspec": {
   "display_name": "Python 3",
   "language": "python",
   "name": "python3"
  },
  "language_info": {
   "codemirror_mode": {
    "name": "ipython",
    "version": 3
   },
   "file_extension": ".py",
   "mimetype": "text/x-python",
   "name": "python",
   "nbconvert_exporter": "python",
   "pygments_lexer": "ipython3",
   "version": "3.13.2"
  }
 },
 "nbformat": 4,
 "nbformat_minor": 5
}
